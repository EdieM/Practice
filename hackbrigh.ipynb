{
 "metadata": {
  "name": "",
  "signature": "sha256:d81c5d23343186bb3f6db27e19522195481896b4b1c070a76d134e6c7e3b28d0"
 },
 "nbformat": 3,
 "nbformat_minor": 0,
 "worksheets": [
  {
   "cells": [
    {
     "cell_type": "code",
     "collapsed": false,
     "input": [
      "def skipMultiples():\n",
      "    for x in range(1, 51):    \n",
      "        if x % 7 == 0:\n",
      "            print \"'The only journey is the journey within.' - Rainer Maria Rilke\"\n",
      "        else:\n",
      "            print x\n",
      "            \n",
      "skipMultiples()"
     ],
     "language": "python",
     "metadata": {},
     "outputs": [
      {
       "output_type": "stream",
       "stream": "stdout",
       "text": [
        "1\n",
        "2\n",
        "3\n",
        "4\n",
        "5\n",
        "6\n",
        "'The only journey is the journey within.' - Rainer Maria Rilke\n",
        "8\n",
        "9\n",
        "10\n",
        "11\n",
        "12\n",
        "13\n",
        "'The only journey is the journey within.' - Rainer Maria Rilke\n",
        "15\n",
        "16\n",
        "17\n",
        "18\n",
        "19\n",
        "20\n",
        "'The only journey is the journey within.' - Rainer Maria Rilke\n",
        "22\n",
        "23\n",
        "24\n",
        "25\n",
        "26\n",
        "27\n",
        "'The only journey is the journey within.' - Rainer Maria Rilke\n",
        "29\n",
        "30\n",
        "31\n",
        "32\n",
        "33\n",
        "34\n",
        "'The only journey is the journey within.' - Rainer Maria Rilke\n",
        "36\n",
        "37\n",
        "38\n",
        "39\n",
        "40\n",
        "41\n",
        "'The only journey is the journey within.' - Rainer Maria Rilke\n",
        "43\n",
        "44\n",
        "45\n",
        "46\n",
        "47\n",
        "48\n",
        "'The only journey is the journey within.' - Rainer Maria Rilke\n",
        "50\n"
       ]
      }
     ],
     "prompt_number": 24
    },
    {
     "cell_type": "code",
     "collapsed": false,
     "input": [
      "\n"
     ],
     "language": "python",
     "metadata": {},
     "outputs": [],
     "prompt_number": 24
    },
    {
     "cell_type": "code",
     "collapsed": false,
     "input": [],
     "language": "python",
     "metadata": {},
     "outputs": []
    }
   ],
   "metadata": {}
  }
 ]
}